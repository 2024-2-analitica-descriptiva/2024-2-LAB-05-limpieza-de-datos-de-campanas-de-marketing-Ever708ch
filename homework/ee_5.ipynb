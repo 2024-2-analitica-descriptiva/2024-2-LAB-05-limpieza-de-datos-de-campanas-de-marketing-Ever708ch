{
 "cells": [
  {
   "cell_type": "code",
   "execution_count": 38,
   "metadata": {},
   "outputs": [
    {
     "name": "stdout",
     "output_type": "stream",
     "text": [
      "[0 1]\n",
      "Archivos generados exitosamente en la carpeta: ../files/output\n"
     ]
    }
   ],
   "source": [
    "import pandas as pd\n",
    "import zipfile\n",
    "import os\n",
    "\n",
    "def process_csv_zip_files(input_folder, output_folder):\n",
    "    # Crear un DataFrame vacío para combinar datos\n",
    "    combined_df = pd.DataFrame()\n",
    "\n",
    "    # Leer todos los archivos .csv.zip en la carpeta\n",
    "    for file_name in os.listdir(input_folder):\n",
    "        if file_name.endswith(\".zip\"):\n",
    "            zip_path = os.path.join(input_folder, file_name)\n",
    "            with zipfile.ZipFile(zip_path, 'r') as z:\n",
    "                csv_files = [name for name in z.namelist() if name.endswith(\".csv\")]\n",
    "                if len(csv_files) == 1:\n",
    "                    with z.open(csv_files[0]) as f:\n",
    "                        df = pd.read_csv(f)\n",
    "                        combined_df = pd.concat([combined_df, df], ignore_index=True)\n",
    "\n",
    "    # Eliminar la columna 'Unnamed: 0' si existe\n",
    "    if 'Unnamed: 0' in combined_df.columns:\n",
    "        combined_df = combined_df.drop(columns=['Unnamed: 0'])\n",
    "\n",
    "    # Limpiar los datos según las transformaciones requeridas\n",
    "    combined_df['job'] = combined_df['job'].str.replace('-', '_', regex=True)\n",
    "    combined_df['job'] = combined_df['job'].str.replace(r'\\.$', '', regex=True)\n",
    "    combined_df['education'] = combined_df['education'].fillna('unknown')\n",
    "    combined_df['education'] = combined_df['education'].str.replace(r'\\.', '_', regex=True)\n",
    "    combined_df['education'] = combined_df['education'].replace('unknown', pd.NA)\n",
    "    combined_df['credit_default'] = [1 if value == \"yes\" else 0 for value in combined_df['credit_default']]\n",
    "    combined_df['mortgage'] = [1 if value == \"yes\" else 0 for value in combined_df['mortgage']]\n",
    "    combined_df['campaign_outcome'] = [1 if value == \"yes\" else 0 for value in combined_df['campaign_outcome']]\n",
    "    combined_df['previous_outcome'] = [1 if value == \"success\" else 0 for value in combined_df['previous_outcome']]\n",
    "    \n",
    "    # Crear el DataFrame `client`\n",
    "    client_columns = [\n",
    "        'client_id', 'age', 'job', 'marital', 'education', 'credit_default', 'mortgage'\n",
    "    ]\n",
    "  \n",
    "    client_df = combined_df[client_columns]\n",
    "    client_df.to_csv(os.path.join(output_folder, 'client.csv'), index=False)\n",
    "    print(client_df['credit_default'].unique())  \n",
    "    # Crear el DataFrame `campaign`\n",
    "    campaign_columns = [\n",
    "        'client_id', 'number_contacts', 'contact_duration',\n",
    "        'previous_campaign_contacts', 'previous_outcome', 'campaign_outcome'\n",
    "    ]\n",
    "    campaign_df = combined_df[campaign_columns].copy()\n",
    "\n",
    "    # Crear la columna 'last_contact_day' combinando 'day' y 'month' con el año 2022\n",
    "    campaign_df['last_contact_date'] = pd.to_datetime(\n",
    "        combined_df['day'].astype(str) + '-' + combined_df['month'].astype(str) + '-2022',\n",
    "        format='%d-%b-%Y'\n",
    "    )\n",
    "    campaign_df.to_csv(os.path.join(output_folder, 'campaign.csv'), index=False)\n",
    "\n",
    "    # Crear el DataFrame `economics`\n",
    "    economics_columns = ['client_id', 'cons_price_idx', 'euribor_three_months']\n",
    "    economics_df = combined_df[economics_columns]\n",
    "    economics_df.to_csv(os.path.join(output_folder, 'economics.csv'), index=False)\n",
    "\n",
    "    print(\"Archivos generados exitosamente en la carpeta:\", output_folder)\n",
    "    \n",
    "\n",
    "\n",
    "# Rutas de entrada y salida\n",
    "input_folder = \"../files/input\"  # Cambia esta ruta según la ubicación de tus archivos\n",
    "output_folder = \"../files/output\"  # Cambia esta ruta si es necesario\n",
    "\n",
    "# Crear la carpeta de salida si no existe\n",
    "os.makedirs(output_folder, exist_ok=True)\n",
    "\n",
    "# Llamar a la función para procesar los archivos\n",
    "process_csv_zip_files(input_folder, output_folder)\n",
    "\n",
    "\n"
   ]
  }
 ],
 "metadata": {
  "kernelspec": {
   "display_name": "Python 3",
   "language": "python",
   "name": "python3"
  },
  "language_info": {
   "codemirror_mode": {
    "name": "ipython",
    "version": 3
   },
   "file_extension": ".py",
   "mimetype": "text/x-python",
   "name": "python",
   "nbconvert_exporter": "python",
   "pygments_lexer": "ipython3",
   "version": "3.10.7"
  }
 },
 "nbformat": 4,
 "nbformat_minor": 2
}
